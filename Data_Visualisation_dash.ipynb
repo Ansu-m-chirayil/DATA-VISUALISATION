{
  "nbformat": 4,
  "nbformat_minor": 0,
  "metadata": {
    "colab": {
      "provenance": []
    },
    "kernelspec": {
      "name": "python3",
      "display_name": "Python 3"
    },
    "language_info": {
      "name": "python"
    }
  },
  "cells": [
    {
      "cell_type": "code",
      "execution_count": 1,
      "metadata": {
        "colab": {
          "base_uri": "https://localhost:8080/"
        },
        "id": "rLHRV_MMh1w0",
        "outputId": "2477ecf6-db4e-4317-ad36-f123eb2193a0"
      },
      "outputs": [
        {
          "output_type": "stream",
          "name": "stdout",
          "text": [
            "Collecting dash\n",
            "  Downloading dash-2.17.1-py3-none-any.whl (7.5 MB)\n",
            "\u001b[2K     \u001b[90m━━━━━━━━━━━━━━━━━━━━━━━━━━━━━━━━━━━━━━━━\u001b[0m \u001b[32m7.5/7.5 MB\u001b[0m \u001b[31m32.4 MB/s\u001b[0m eta \u001b[36m0:00:00\u001b[0m\n",
            "\u001b[?25hRequirement already satisfied: Flask<3.1,>=1.0.4 in /usr/local/lib/python3.10/dist-packages (from dash) (2.2.5)\n",
            "Requirement already satisfied: Werkzeug<3.1 in /usr/local/lib/python3.10/dist-packages (from dash) (3.0.3)\n",
            "Requirement already satisfied: plotly>=5.0.0 in /usr/local/lib/python3.10/dist-packages (from dash) (5.15.0)\n",
            "Collecting dash-html-components==2.0.0 (from dash)\n",
            "  Downloading dash_html_components-2.0.0-py3-none-any.whl (4.1 kB)\n",
            "Collecting dash-core-components==2.0.0 (from dash)\n",
            "  Downloading dash_core_components-2.0.0-py3-none-any.whl (3.8 kB)\n",
            "Collecting dash-table==5.0.0 (from dash)\n",
            "  Downloading dash_table-5.0.0-py3-none-any.whl (3.9 kB)\n",
            "Requirement already satisfied: importlib-metadata in /usr/local/lib/python3.10/dist-packages (from dash) (7.2.0)\n",
            "Requirement already satisfied: typing-extensions>=4.1.1 in /usr/local/lib/python3.10/dist-packages (from dash) (4.12.2)\n",
            "Requirement already satisfied: requests in /usr/local/lib/python3.10/dist-packages (from dash) (2.31.0)\n",
            "Collecting retrying (from dash)\n",
            "  Downloading retrying-1.3.4-py3-none-any.whl (11 kB)\n",
            "Requirement already satisfied: nest-asyncio in /usr/local/lib/python3.10/dist-packages (from dash) (1.6.0)\n",
            "Requirement already satisfied: setuptools in /usr/local/lib/python3.10/dist-packages (from dash) (67.7.2)\n",
            "Requirement already satisfied: Jinja2>=3.0 in /usr/local/lib/python3.10/dist-packages (from Flask<3.1,>=1.0.4->dash) (3.1.4)\n",
            "Requirement already satisfied: itsdangerous>=2.0 in /usr/local/lib/python3.10/dist-packages (from Flask<3.1,>=1.0.4->dash) (2.2.0)\n",
            "Requirement already satisfied: click>=8.0 in /usr/local/lib/python3.10/dist-packages (from Flask<3.1,>=1.0.4->dash) (8.1.7)\n",
            "Requirement already satisfied: tenacity>=6.2.0 in /usr/local/lib/python3.10/dist-packages (from plotly>=5.0.0->dash) (8.4.1)\n",
            "Requirement already satisfied: packaging in /usr/local/lib/python3.10/dist-packages (from plotly>=5.0.0->dash) (24.1)\n",
            "Requirement already satisfied: MarkupSafe>=2.1.1 in /usr/local/lib/python3.10/dist-packages (from Werkzeug<3.1->dash) (2.1.5)\n",
            "Requirement already satisfied: zipp>=0.5 in /usr/local/lib/python3.10/dist-packages (from importlib-metadata->dash) (3.19.2)\n",
            "Requirement already satisfied: charset-normalizer<4,>=2 in /usr/local/lib/python3.10/dist-packages (from requests->dash) (3.3.2)\n",
            "Requirement already satisfied: idna<4,>=2.5 in /usr/local/lib/python3.10/dist-packages (from requests->dash) (3.7)\n",
            "Requirement already satisfied: urllib3<3,>=1.21.1 in /usr/local/lib/python3.10/dist-packages (from requests->dash) (2.0.7)\n",
            "Requirement already satisfied: certifi>=2017.4.17 in /usr/local/lib/python3.10/dist-packages (from requests->dash) (2024.6.2)\n",
            "Requirement already satisfied: six>=1.7.0 in /usr/local/lib/python3.10/dist-packages (from retrying->dash) (1.16.0)\n",
            "Installing collected packages: dash-table, dash-html-components, dash-core-components, retrying, dash\n",
            "Successfully installed dash-2.17.1 dash-core-components-2.0.0 dash-html-components-2.0.0 dash-table-5.0.0 retrying-1.3.4\n"
          ]
        }
      ],
      "source": [
        "!pip install dash"
      ]
    },
    {
      "cell_type": "code",
      "source": [
        "from dash import Dash, html, dcc, Input, Output\n",
        "import plotly.express as px\n",
        "import pandas as pd\n",
        "\n",
        "order_dash=pd.read_csv('/content/Order Dashboard.csv')\n",
        "\n",
        "df=pd.DataFrame(order_dash)\n",
        "print(df)\n",
        "\n",
        "app = Dash()\n"
      ],
      "metadata": {
        "colab": {
          "base_uri": "https://localhost:8080/",
          "height": 937
        },
        "id": "L95yUjj2iPOk",
        "outputId": "41938077-2dfb-4a8a-9786-8a647e08ca50"
      },
      "execution_count": 2,
      "outputs": [
        {
          "output_type": "stream",
          "name": "stdout",
          "text": [
            "       id      Name                          email date of birth gender  \\\n",
            "0       1   Ephraim      vklaassens0@instagram.com     10/3/1973      M   \n",
            "1       2    Tedman                loger1@usda.gov    14/01/1989      M   \n",
            "2       3       Jan         cfarrear2@amazon.co.jp    10/10/1985      M   \n",
            "3       4        Ev            welleyne3@tmall.com    22/09/1972      M   \n",
            "4       5     Geoff              tarntzen4@gnu.org    27/02/1970      M   \n",
            "..    ...       ...                            ...           ...    ...   \n",
            "995   996    Austen            alefebrern@wisc.edu     12/6/1983      M   \n",
            "996   997     Jeffy    mtennisonro@cyberchimps.com     10/3/1965      M   \n",
            "997   998  Riccardo          bmatsellrp@nsw.gov.au    18/05/1955      M   \n",
            "998   999   Laverna  squaintancerq@liveinternet.ru     12/2/1956      F   \n",
            "999  1000    Jerrie          wbinnerr@redcross.org     9/12/1998      F   \n",
            "\n",
            "    Membership Category Product Category     City     Invoice Invoice_Amount  \\\n",
            "0                  GOLD            P0011  Gaillac  88-1786734       $273.71    \n",
            "1              PLATINUM            P0011  Gaillac  93-9689182       $864.24    \n",
            "2                SILVER            P0011     Looc  52-2100888       $223.35    \n",
            "3                SILVER            P0011    Baroy  20-6507365       $803.60    \n",
            "4                SILVER            P0012    Tambo  37-9635312       $721.87    \n",
            "..                  ...              ...      ...         ...            ...   \n",
            "995                GOLD            P0011    Baroy  29-7859219       $708.96    \n",
            "996              SILVER            P0011    Tambo  84-8200884       $977.43    \n",
            "997              SILVER            P0011  Luoping  82-8008972       $645.09    \n",
            "998              SILVER            P0012  Hamburg  21-7003075       $114.83    \n",
            "999              SILVER            P0011  Paclolo  69-1284732       $465.19    \n",
            "\n",
            "     Order_date Departure_date Delivery_date Delivery_Deadline Delivery_Fee  \\\n",
            "0     6/11/2021     22/11/2021     2/12/2021         6/12/2021       $9.79    \n",
            "1    15/11/2021     27/11/2021     9/12/2021         9/12/2021       $5.96    \n",
            "2    23/09/2021     23/11/2021           NaN         3/12/2021       $4.90    \n",
            "3     2/10/2021     21/11/2021    14/12/2021         2/12/2021       $9.70    \n",
            "4     5/10/2021     25/11/2021    10/12/2021        25/11/2021       $3.48    \n",
            "..          ...            ...           ...               ...          ...   \n",
            "995  25/09/2021     23/11/2021     2/12/2021         2/12/2021       $8.28    \n",
            "996  21/10/2021     28/11/2021     3/12/2021        12/12/2021       $4.55    \n",
            "997  20/10/2021     25/11/2021     5/12/2021        24/11/2021       $9.99    \n",
            "998  18/10/2021     21/11/2021     4/12/2021        30/11/2021       $4.40    \n",
            "999  24/10/2021     26/11/2021    11/12/2021         5/12/2021       $2.69    \n",
            "\n",
            "     Distance(in kms) Delivery_Man  \n",
            "0               10736    Klaassens  \n",
            "1                   3         Oger  \n",
            "2                  68      Farrear  \n",
            "3                 550      Elleyne  \n",
            "4                   3      Arntzen  \n",
            "..                ...          ...  \n",
            "995              6777   Simionescu  \n",
            "996                99  Streatfield  \n",
            "997                 7      Moreinu  \n",
            "998               769    Lavington  \n",
            "999               353     Bardwell  \n",
            "\n",
            "[1000 rows x 17 columns]\n"
          ]
        }
      ]
    },
    {
      "cell_type": "code",
      "source": [
        "# Define the layout of the app\n",
        "app.layout = html.Div([\n",
        "    html.H1(\"Order Dashboard\"),\n",
        "    dcc.Dropdown(\n",
        "        id='category-dropdown',\n",
        "        options=[{'label': category, 'value': category} for category in df['Product Category'].unique()],\n",
        "        value=df['Product Category'].unique()[0]\n",
        "    ),\n",
        "    dcc.Graph(id='sales-bar-chart'),\n",
        "    dcc.Graph(id='order-count-line-chart')\n",
        "])\n",
        "\n",
        "# Define the callback to update the charts based on the dropdown selection\n",
        "@app.callback(\n",
        "    [Output('sales-bar-chart', 'figure'),\n",
        "     Output('order-count-line-chart', 'figure')],\n",
        "    [Input('category-dropdown', 'value')]\n",
        ")\n",
        "def update_charts(selected_category):\n",
        "    filtered_df = df[df['Product Category'] == selected_category]\n",
        "\n",
        "    sales_bar_chart = px.bar(\n",
        "        filtered_df,\n",
        "        x='Order_date',\n",
        "        y='Invoice_Amount',\n",
        "        title='Sales Over Time',\n",
        "        labels={'Invoice_Amount': 'Sales ($)', 'Order_date': 'Order Date'}\n",
        "    )\n",
        "\n",
        "    order_count_line_chart = px.line(\n",
        "        filtered_df.groupby('Order_date').count().reset_index(),\n",
        "        x='Order_date',\n",
        "        y='Order_Count',\n",
        "        title='Number of Orders Over Time',\n",
        "        labels={'Order_Count': 'Number of Orders', 'Order_date': 'Order Date'}\n",
        "    )\n",
        "\n",
        "    return sales_bar_chart, order_count_line_chart\n",
        "\n",
        "# Run the app\n",
        "if __name__ == '__main__':\n",
        "    app.run_server(debug=True)"
      ],
      "metadata": {
        "colab": {
          "base_uri": "https://localhost:8080/",
          "height": 671
        },
        "id": "HGI0jvKfiqNN",
        "outputId": "1f45cb75-f42d-400c-973d-2f8d0c141c6b"
      },
      "execution_count": 3,
      "outputs": [
        {
          "output_type": "display_data",
          "data": {
            "text/plain": [
              "<IPython.core.display.Javascript object>"
            ],
            "application/javascript": [
              "(async (port, path, width, height, cache, element) => {\n",
              "    if (!google.colab.kernel.accessAllowed && !cache) {\n",
              "      return;\n",
              "    }\n",
              "    element.appendChild(document.createTextNode(''));\n",
              "    const url = await google.colab.kernel.proxyPort(port, {cache});\n",
              "    const iframe = document.createElement('iframe');\n",
              "    iframe.src = new URL(path, url).toString();\n",
              "    iframe.height = height;\n",
              "    iframe.width = width;\n",
              "    iframe.style.border = 0;\n",
              "    iframe.allow = [\n",
              "        'accelerometer',\n",
              "        'autoplay',\n",
              "        'camera',\n",
              "        'clipboard-read',\n",
              "        'clipboard-write',\n",
              "        'gyroscope',\n",
              "        'magnetometer',\n",
              "        'microphone',\n",
              "        'serial',\n",
              "        'usb',\n",
              "        'xr-spatial-tracking',\n",
              "    ].join('; ');\n",
              "    element.appendChild(iframe);\n",
              "  })(8050, \"/\", \"100%\", 650, false, window.element)"
            ]
          },
          "metadata": {}
        }
      ]
    }
  ]
}